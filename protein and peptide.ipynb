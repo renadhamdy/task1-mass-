{
 "cells": [
  {
   "cell_type": "code",
   "execution_count": 1,
   "id": "5f880cc2",
   "metadata": {},
   "outputs": [
    {
     "name": "stdout",
     "output_type": "stream",
     "text": [
      "Sequence: DFPIANGER\n",
      "Prefix: DFPI\n",
      "Suffix: ANGER\n",
      "Concatenated: DFPIANGERDFPIANGER\n",
      "\n",
      "Monoisotopic mass of peptide [M] is 1017.4879641373001\n",
      "Monoisotopic mass of peptide precursor [M+2H]2+ is 1019.5025170708421\n",
      "Monoisotopic m/z of [M+2H]2+ is 509.7512585354211\n"
     ]
    }
   ],
   "source": [
    "from pyopenms import *\n",
    "seq = AASequence.fromString(\"DFPIANGER\") \n",
    "prefix = seq.getPrefix(4) \n",
    "suffix = seq.getSuffix(5) \n",
    "concat = seq + seq \n",
    "\n",
    "\n",
    "print(\"Sequence:\", seq)\n",
    "print(\"Prefix:\", prefix)\n",
    "print(\"Suffix:\", suffix)\n",
    "print(\"Concatenated:\", concat)\n",
    "\n",
    "\n",
    "mfull = seq.getMonoWeight() \n",
    "mprecursor = seq.getMonoWeight(Residue.ResidueType.Full, 2) \n",
    "\n",
    "\n",
    "mz = seq.getMonoWeight(Residue.ResidueType.Full, 2) / 2.0 \n",
    "\n",
    "mz = seq.getMZ(2) \n",
    "\n",
    "print()\n",
    "print(\"Monoisotopic mass of peptide [M] is\", mfull)\n",
    "print(\"Monoisotopic mass of peptide precursor [M+2H]2+ is\", mprecursor)\n",
    "print(\"Monoisotopic m/z of [M+2H]2+ is\", mz)"
   ]
  },
  {
   "cell_type": "code",
   "execution_count": 2,
   "id": "a6d78f87",
   "metadata": {},
   "outputs": [
    {
     "name": "stdout",
     "output_type": "stream",
     "text": [
      "The peptide DFPIANGER consists of the following amino acids:\n",
      "Aspartate : 133.03750922330002\n",
      "Phenylalanine : 165.0789793509\n",
      "Proline : 115.0633292871\n",
      "Isoleucine : 131.09462941470002\n",
      "Alanine : 89.04767922330001\n",
      "Asparagine : 132.0534932552\n",
      "Glycine : 75.03202915950001\n",
      "Glutamate : 147.0531592871\n",
      "Arginine : 174.1116764466\n"
     ]
    }
   ],
   "source": [
    "seq = AASequence.fromString(\"DFPIANGER\")\n",
    "\n",
    "print(\"The peptide\", str(seq), \"consists of the following amino acids:\")\n",
    "for aa in seq:\n",
    "    print(aa.getName(), \":\", aa.getMonoWeight())"
   ]
  },
  {
   "cell_type": "code",
   "execution_count": 3,
   "id": "b2f4c4a0",
   "metadata": {},
   "outputs": [
    {
     "name": "stdout",
     "output_type": "stream",
     "text": [
      "N-Term Modification:  Pyro-carbamidomethyl (N-term C)\n",
      "Cysteine : 121.01974995329999\n",
      "Proline : 115.0633292871\n",
      "Lysine : 146.1055284466\n",
      "Cysteine : 121.01974995329999\n",
      "Lysine : 154.1197284466 : Label:13C(6)15N(2)\n",
      "Cysteine : 121.01974995329999\n",
      "Arginine : 174.1116764466\n"
     ]
    }
   ],
   "source": [
    "seq = AASequence.fromString(\"C[143]PKCK(Label:13C(6)15N(2))CR\")\n",
    "\n",
    "\n",
    "if seq.hasNTerminalModification():\n",
    "    print(\"N-Term Modification: \", seq.getNTerminalModification().getFullId())\n",
    "if seq.hasCTerminalModification():\n",
    "    print(\"C-Term Modification: \", seq.getCTerminalModification().getFullId())\n",
    "\n",
    "for aa in seq:\n",
    "    if (aa.isModified()):\n",
    "        print(aa.getName(), \":\", aa.getMonoWeight(), \":\", aa.getModificationName())\n",
    "    else:\n",
    "        print(aa.getName(), \":\", aa.getMonoWeight())"
   ]
  },
  {
   "cell_type": "code",
   "execution_count": 4,
   "id": "207767ad",
   "metadata": {},
   "outputs": [
    {
     "name": "stdout",
     "output_type": "stream",
     "text": [
      "Peptide DFPIANGER has molecular formula C44H67N13O15\n"
     ]
    }
   ],
   "source": [
    "seq = AASequence.fromString(\"DFPIANGER\")\n",
    "seq_formula = seq.getFormula()\n",
    "print(\"Peptide\", seq, \"has molecular formula\", seq_formula)"
   ]
  },
  {
   "cell_type": "code",
   "execution_count": 5,
   "id": "bce941b6",
   "metadata": {},
   "outputs": [
    {
     "name": "stdout",
     "output_type": "stream",
     "text": [
      "Isotope 1017.4879641373001 has abundance 56.8165123462677 %\n",
      "Isotope 1018.4913189751001 has abundance 30.52913248538971 %\n",
      "Isotope 1019.4946738129 has abundance 9.802104532718658 %\n",
      "Isotope 1020.4980286507001 has abundance 2.3292062804102898 %\n",
      "Isotope 1021.5013834885001 has abundance 0.44925957918167114 %\n",
      "Isotope 1022.5047383263001 has abundance 0.07378292502835393 %\n"
     ]
    }
   ],
   "source": [
    "coarse_isotopes = seq_formula.getIsotopeDistribution( CoarseIsotopePatternGenerator(6) )\n",
    "for iso in coarse_isotopes.getContainer():\n",
    "    print (\"Isotope\", iso.getMZ(), \"has abundance\", iso.getIntensity()*100, \"%\")"
   ]
  },
  {
   "cell_type": "code",
   "execution_count": 6,
   "id": "a8837871",
   "metadata": {},
   "outputs": [
    {
     "name": "stdout",
     "output_type": "stream",
     "text": [
      "Isotope 1017.4879641373001 has abundance 56.80969953536987 %\n",
      "Isotope 1018.4849991373001 has abundance 2.7278145775198936 %\n",
      "Isotope 1018.4913191373001 has abundance 27.035287022590637 %\n",
      "Isotope 1018.4921811373001 has abundance 0.3246041014790535 %\n",
      "Isotope 1018.4942408854 has abundance 0.4377691075205803 %\n",
      "Isotope 1019.4883541373001 has abundance 1.2981452979147434 %\n",
      "Isotope 1019.4922181373001 has abundance 1.7511537298560143 %\n",
      "Isotope 1019.4946741373 has abundance 6.286735832691193 %\n",
      "Isotope 1019.4975958854001 has abundance 0.2083308296278119 %\n",
      "Isotope 1020.4917091373001 has abundance 0.3018683288246393 %\n",
      "Isotope 1020.4955731373002 has abundance 0.833360105752945 %\n",
      "Isotope 1020.4980291373 has abundance 0.9519387967884541 %\n",
      "Isotope 1021.4989281373 has abundance 0.1937880413606763 %\n"
     ]
    }
   ],
   "source": [
    "fine_isotopes = seq_formula.getIsotopeDistribution( FineIsotopePatternGenerator(0.01) ) # max 0.01 unexplained probability\n",
    "for iso in fine_isotopes.getContainer():\n",
    "    print (\"Isotope\", iso.getMZ(), \"has abundance\", iso.getIntensity()*100, \"%\")"
   ]
  },
  {
   "cell_type": "code",
   "execution_count": 7,
   "id": "46bc1bd6",
   "metadata": {},
   "outputs": [
    {
     "data": {
      "image/png": "[encoded data removed]",
      "text/plain": [
       "<Figure size 720x504 with 2 Axes>"
      ]
     },
     "metadata": {
      "needs_background": "light"
     },
     "output_type": "display_data"
    }
   ],
   "source": [
    "import math\n",
    "from matplotlib import pyplot as plt\n",
    "\n",
    "def plotIsotopeDistribution(isotope_distribution, title=\"Isotope distribution\"):\n",
    "    plt.title(title)\n",
    "    distribution = {\"mass\": [], \"abundance\": []}\n",
    "    for iso in isotope_distribution.getContainer():\n",
    "        distribution[\"mass\"].append(iso.getMZ())\n",
    "        distribution[\"abundance\"].append(iso.getIntensity() * 100)\n",
    "\n",
    "    bars = plt.bar(distribution[\"mass\"], distribution[\"abundance\"], width=0.01, snap=False) \n",
    "\n",
    "    plt.ylim([0, 110])\n",
    "    plt.xticks(range(math.ceil(distribution[\"mass\"][0]) - 2,\n",
    "                     math.ceil(distribution[\"mass\"][-1]) + 2))\n",
    "    plt.xlabel(\"Atomic mass (u)\")\n",
    "    plt.ylabel(\"Relative abundance (%)\")\n",
    "\n",
    "plt.figure(figsize=(10,7))\n",
    "plt.subplot(1,2,1)\n",
    "plotIsotopeDistribution(coarse_isotopes, \"Isotope distribution - coarse\")\n",
    "plt.subplot(1,2,2)\n",
    "plotIsotopeDistribution(fine_isotopes, \"Isotope distribution - fine structure\")\n",
    "plt.show()"
   ]
  },
  {
   "cell_type": "code",
   "execution_count": 8,
   "id": "398a4f32",
   "metadata": {},
   "outputs": [
    {
     "name": "stdout",
     "output_type": "stream",
     "text": [
      "===================================\n",
      "y3 ion sequence: GER\n",
      "y3 mz: 181.09514384957103\n",
      "y3 molecular formula: C13H24N6O6\n"
     ]
    }
   ],
   "source": [
    "suffix = seq.getSuffix(3) \n",
    "print(\"=\"*35)\n",
    "print(\"y3 ion sequence:\", suffix)\n",
    "y3_formula = suffix.getFormula(Residue.ResidueType.YIon, 2)\n",
    "suffix.getMonoWeight(Residue.ResidueType.YIon, 2) / 2.0 \n",
    "suffix.getMonoWeight(Residue.ResidueType.XIon, 2) / 2.0 \n",
    "suffix.getMonoWeight(Residue.ResidueType.BIon, 2) / 2.0 \n",
    "\n",
    "print(\"y3 mz:\", suffix.getMonoWeight(Residue.ResidueType.YIon, 2) / 2.0 )\n",
    "print(\"y3 molecular formula:\", y3_formula)"
   ]
  },
  {
   "cell_type": "code",
   "execution_count": 9,
   "id": "68387897",
   "metadata": {},
   "outputs": [
    {
     "name": "stdout",
     "output_type": "stream",
     "text": [
      "PEPTIDESEKUEMCER\n",
      "PEPTIDESEKUEM(Oxidation)CER\n",
      "PEPTIDESEKUEM(UniMod:35)CER\n",
      "PEPTIDESEKUEM[147]CER\n",
      "PEPTIDESEKUEM[147.03540001709996]CER\n",
      "DFPIAM(Oxidation)GER\n",
      "DFPIAM(Oxidation)GER\n",
      "DFPIAM(Oxidation)GER\n",
      "DFPIAM(Oxidation)GER\n",
      "DFPIAM(Oxidation)GER\n"
     ]
    }
   ],
   "source": [
    " seq = AASequence.fromString(\"PEPTIDESEKUEM(Oxidation)CER\")\n",
    " print(seq.toUnmodifiedString())\n",
    " print(seq.toString())\n",
    " print(seq.toUniModString())\n",
    " print(seq.toBracketString())\n",
    " print(seq.toBracketString(False))\n",
    "\n",
    " print(AASequence.fromString(\"DFPIAM(UniMod:35)GER\"))\n",
    "print(AASequence.fromString(\"DFPIAM[+16]GER\"))\n",
    " print(AASequence.fromString(\"DFPIAM[+15.99]GER\"))\n",
    "print(AASequence.fromString(\"DFPIAM[147]GER\"))\n",
    "print(AASequence.fromString(\"DFPIAM[147.035405]GER\"))"
   ]
  },
  {
   "cell_type": "code",
   "execution_count": 10,
   "id": "807115f4",
   "metadata": {},
   "outputs": [
    {
     "name": "stdout",
     "output_type": "stream",
     "text": [
      ".(Dimethyl)DFPIAMGER True\n",
      "DFPIAMGER.(Label:18O(2)) True\n",
      "DFPIAMGER(Phospho) False\n"
     ]
    }
   ],
   "source": [
    " s = AASequence.fromString(\".(Dimethyl)DFPIAMGER.\")\n",
    "print(s, s.hasNTerminalModification())\n",
    "s = AASequence.fromString(\".DFPIAMGER.(Label:18O(2))\")\n",
    "print(s, s.hasCTerminalModification())\n",
    "s = AASequence.fromString(\".DFPIAMGER(Phospho).\")\n",
    "print(s, s.hasCTerminalModification())"
   ]
  },
  {
   "cell_type": "code",
   "execution_count": 14,
   "id": "0198eb76",
   "metadata": {},
   "outputs": [
    {
     "name": "stdout",
     "output_type": "stream",
     "text": [
      "2\n",
      "BSA MKWVTFISLLLLFSSAYSRGVFRRDTHKSEIAHRFKDLGE\n",
      "ALB MKWVTFISLLFLFSSAYSRGVFRRDAHKSEVAHRFKDLGE\n"
     ]
    }
   ],
   "source": [
    "bsa = FASTAEntry() \n",
    "bsa.sequence = \"MKWVTFISLLLLFSSAYSRGVFRRDTHKSEIAHRFKDLGE\"\n",
    "bsa.description = \"BSA Bovine Albumin (partial sequence)\"\n",
    "bsa.identifier = \"BSA\"\n",
    "\n",
    "alb = FASTAEntry()\n",
    "alb.sequence = \"MKWVTFISLLFLFSSAYSRGVFRRDAHKSEVAHRFKDLGE\"\n",
    "alb.description = \"ALB Human Albumin (partial sequence)\"\n",
    "alb.identifier = \"ALB\"\n",
    "\n",
    "entries = [bsa, alb]\n",
    "\n",
    "f = FASTAFile()\n",
    "f.store(\"example.fasta\", entries)\n",
    "entries = []\n",
    "f = FASTAFile()\n",
    "f.load(\"example.fasta\", entries)\n",
    "print( len(entries) )\n",
    "for e in entries:\n",
    "  print (e.identifier, e.sequence)"
   ]
  },
  {
   "cell_type": "code",
   "execution_count": null,
   "id": "f76a9ca3",
   "metadata": {},
   "outputs": [],
   "source": []
  }
 ],
 "metadata": {
  "kernelspec": {
   "display_name": "Python 3",
   "language": "python",
   "name": "python3"
  },
  "language_info": {
   "codemirror_mode": {
    "name": "ipython",
    "version": 3
   },
   "file_extension": ".py",
   "mimetype": "text/x-python",
   "name": "python",
   "nbconvert_exporter": "python",
   "pygments_lexer": "ipython3",
   "version": "3.8.8"
  }
 },
 "nbformat": 4,
 "nbformat_minor": 5
}
