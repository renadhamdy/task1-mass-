{
 "cells": [
  {
   "cell_type": "code",
   "execution_count": 1,
   "id": "0d892ebf",
   "metadata": {},
   "outputs": [
    {
     "name": "stdout",
     "output_type": "stream",
     "text": [
      "Valine\n",
      "117.0789793509\n",
      "Alanine\n",
      "89.0476792233\n",
      "Lysine\n",
      "146.1055284466\n",
      "441.2798662441\n"
     ]
    }
   ],
   "source": [
    "from pyopenms import *\n",
    "V = ResidueDB().getResidue(\"V\")\n",
    "print(V.getName())\n",
    "v_mass = V.getMonoWeight()\n",
    "print(v_mass)\n",
    "\n",
    "\n",
    "A = ResidueDB().getResidue(\"A\")\n",
    "print(A.getName()) \n",
    "a_mass = A.getMonoWeight()\n",
    "print(a_mass)\n",
    "\n",
    "K = ResidueDB().getResidue(\"K\")\n",
    "print(K.getName())\n",
    "k_mass = K.getMonoWeight()\n",
    "print(k_mass) \n",
    "\n",
    "total_mass = v_mass + a_mass + k_mass+ a_mass\n",
    "print(total_mass)\n"
   ]
  },
  {
   "cell_type": "code",
   "execution_count": 2,
   "id": "4e1f18ee",
   "metadata": {},
   "outputs": [
    {
     "name": "stdout",
     "output_type": "stream",
     "text": [
      "387.2481710527\n"
     ]
    }
   ],
   "source": [
    "sequence = AASequence.fromString(\"VAKA\") \n",
    "fullmass = sequence.getMonoWeight() \n",
    "print(fullmass)\n"
   ]
  },
  {
   "cell_type": "code",
   "execution_count": null,
   "id": "09577286",
   "metadata": {},
   "outputs": [],
   "source": []
  }
 ],
 "metadata": {
  "kernelspec": {
   "display_name": "Python 3",
   "language": "python",
   "name": "python3"
  },
  "language_info": {
   "codemirror_mode": {
    "name": "ipython",
    "version": 3
   },
   "file_extension": ".py",
   "mimetype": "text/x-python",
   "name": "python",
   "nbconvert_exporter": "python",
   "pygments_lexer": "ipython3",
   "version": "3.8.8"
  }
 },
 "nbformat": 4,
 "nbformat_minor": 5
}
