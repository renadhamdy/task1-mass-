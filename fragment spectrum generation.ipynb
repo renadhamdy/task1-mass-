{
 "cells": [
  {
   "cell_type": "code",
   "execution_count": 1,
   "id": "025ff5b9",
   "metadata": {},
   "outputs": [
    {
     "name": "stdout",
     "output_type": "stream",
     "text": [
      "Spectrum 1 of DFPIANGER has 8 peaks.\n",
      "y1+ is generated at m/z 175.118952913371\n",
      "y2+ is generated at m/z 304.161547136671\n",
      "y3+ is generated at m/z 361.18301123237103\n",
      "y4+ is generated at m/z 475.225939423771\n",
      "y5+ is generated at m/z 546.263053583271\n",
      "y6+ is generated at m/z 659.347117934171\n",
      "y7+ is generated at m/z 756.399882157471\n",
      "y8+ is generated at m/z 903.468296444571\n"
     ]
    }
   ],
   "source": [
    "from pyopenms import *\n",
    "tsg = TheoreticalSpectrumGenerator()\n",
    "spec1 = MSSpectrum()\n",
    "peptide = AASequence.fromString(\"DFPIANGER\")\n",
    "p = Param()\n",
    "p.setValue(\"add_b_ions\", \"false\")\n",
    "p.setValue(\"add_metainfo\", \"true\")\n",
    "tsg.setParameters(p)\n",
    "tsg.getSpectrum(spec1, peptide, 1, 1)\n",
    "print(\"Spectrum 1 of\", peptide, \"has\", spec1.size(), \"peaks.\")\n",
    "for ion, peak in zip(spec1.getStringDataArrays()[0], spec1):\n",
    "    print(ion.decode(), \"is generated at m/z\", peak.getMZ())"
   ]
  },
  {
   "cell_type": "code",
   "execution_count": 2,
   "id": "3b096117",
   "metadata": {},
   "outputs": [
    {
     "data": {
      "text/plain": [
       "Text(0, 0.5, 'intensity')"
      ]
     },
     "execution_count": 2,
     "metadata": {},
     "output_type": "execute_result"
    },
    {
     "data": {
      "image/png": "[encoded data removed]",
      "text/plain": [
       "<Figure size 432x288 with 1 Axes>"
      ]
     },
     "metadata": {
      "needs_background": "light"
     },
     "output_type": "display_data"
    }
   ],
   "source": [
    "import matplotlib.pyplot as plt\n",
    "plt.bar(spec1.get_peaks()[0], spec1.get_peaks()[1], snap=False)\n",
    "plt.xlabel(\"m/z\")\n",
    "plt.ylabel(\"intensity\")"
   ]
  },
  {
   "cell_type": "code",
   "execution_count": 3,
   "id": "4f4b01c1",
   "metadata": {},
   "outputs": [
    {
     "data": {
      "text/plain": [
       "Text(0, 0.5, 'intensity')"
      ]
     },
     "execution_count": 3,
     "metadata": {},
     "output_type": "execute_result"
    },
    {
     "data": {
      "image/png": "[encoded data removed]",
      "text/plain": [
       "<Figure size 432x288 with 1 Axes>"
      ]
     },
     "metadata": {
      "needs_background": "light"
     },
     "output_type": "display_data"
    }
   ],
   "source": [
    "mz,i = spec1.get_peaks()\n",
    "annot = spec1.getStringDataArrays()[0]\n",
    "bars = plt.bar(mz, i, snap=False)\n",
    "idx = 0\n",
    "for rect in bars:\n",
    "    height = rect.get_height()\n",
    "    plt.text(rect.get_x() + rect.get_width() / 2.0, height, annot[idx].decode(), ha='center', va='bottom', rotation=90)\n",
    "    idx += 1\n",
    "plt.ylim(top=1.2)\n",
    "plt.xlabel(\"m/z\")\n",
    "plt.ylabel(\"intensity\")"
   ]
  },
  {
   "cell_type": "code",
   "execution_count": 4,
   "id": "1c207ec8",
   "metadata": {},
   "outputs": [
    {
     "name": "stdout",
     "output_type": "stream",
     "text": [
      "Spectrum 2 of DFPIANGER has 146 peaks.\n",
      "a2-H2O1++ is generated at m/z 51.538743578421\n",
      "b2-H2O1++ is generated at m/z 65.53620107842099\n",
      "y1-C1H2N1O1++ is generated at m/z 66.05629515817103\n",
      "y1-C1H2N2++ is generated at m/z 67.05221565817102\n",
      "y1-H3N1++ is generated at m/z 79.54984014222102\n",
      "y1++ is generated at m/z 88.06311469007102\n",
      "a3-H2O1++ is generated at m/z 100.065125690071\n",
      "a2-H2O1+ is generated at m/z 102.070210690071\n",
      "b3-H2O1++ is generated at m/z 114.062583190071\n",
      "a2++ is generated at m/z 118.05749819007099\n",
      "b2-H2O1+ is generated at m/z 130.065125690071\n",
      "y2-C1H2N1O1++ is generated at m/z 130.57759226982103\n",
      "y1-C1H2N1O1+ is generated at m/z 131.10531384957102\n",
      "y2-C1H2N2++ is generated at m/z 131.573512769821\n",
      "b2++ is generated at m/z 132.05495569007098\n",
      "y1-C1H2N2+ is generated at m/z 133.097154849571\n",
      "y2-H2O1++ is generated at m/z 143.579129269821\n",
      "y2-H3N1++ is generated at m/z 144.07113725387103\n",
      "y2++ is generated at m/z 152.58441180172102\n",
      "a4-H2O1++ is generated at m/z 156.607157865521\n",
      "y1-H3N1+ is generated at m/z 158.092403817671\n",
      "y3-C1H2N1O1++ is generated at m/z 159.08832431767104\n",
      "y3-C1H2N2++ is generated at m/z 160.08424481767102\n",
      "a3++ is generated at m/z 166.583880301721\n",
      "b4-H2O1++ is generated at m/z 170.604615365521\n",
      "y3-H2O1++ is generated at m/z 172.08986131767102\n",
      "y3-H3N1++ is generated at m/z 172.58186930172104\n",
      "y1+ is generated at m/z 175.118952913371\n",
      "b3++ is generated at m/z 180.581337801721\n",
      "y3++ is generated at m/z 181.09514384957103\n",
      "a5-H2O1++ is generated at m/z 192.125714945271\n",
      "a3-H2O1+ is generated at m/z 199.12297491337097\n",
      "b5-H2O1++ is generated at m/z 206.123172445271\n",
      "y4-C1H2N1O1++ is generated at m/z 216.10978841337104\n",
      "y4-C1H2N2++ is generated at m/z 217.10570891337102\n",
      "a4++ is generated at m/z 223.125912477171\n",
      "b3-H2O1+ is generated at m/z 227.11788991337096\n",
      "y4-H2O1++ is generated at m/z 229.11132541337102\n",
      "y4-H3N1++ is generated at m/z 229.60333339742104\n",
      "a2+ is generated at m/z 235.107719913371\n",
      "b4++ is generated at m/z 237.123369977171\n",
      "y4++ is generated at m/z 238.11660794527103\n",
      "a6-H2O1++ is generated at m/z 249.147179040971\n",
      "a6-H3N1++ is generated at m/z 249.63918702502102\n",
      "y5-C1H2N1O1++ is generated at m/z 251.62834549312103\n",
      "y5-C1H2N2++ is generated at m/z 252.624265993121\n",
      "a5++ is generated at m/z 258.644469556921\n",
      "y2-C1H2N1O1+ is generated at m/z 260.147908072871\n",
      "y2-C1H2N2+ is generated at m/z 262.139749072871\n",
      "b2+ is generated at m/z 263.102634913371\n",
      "b6-H2O1++ is generated at m/z 263.144636540971\n",
      "b6-H3N1++ is generated at m/z 263.636644525021\n",
      "y5-H2O1++ is generated at m/z 264.62988249312104\n",
      "y5-H3N1++ is generated at m/z 265.121890477171\n",
      "b5++ is generated at m/z 272.641927056921\n",
      "y5++ is generated at m/z 273.635165025021\n",
      "a7-H2O1++ is generated at m/z 277.65791108882104\n",
      "a7-H3N1++ is generated at m/z 278.149919072871\n",
      "y2-H2O1+ is generated at m/z 286.150982072871\n",
      "y2-H3N1+ is generated at m/z 287.134998040971\n",
      "b7-H2O1++ is generated at m/z 291.65536858882103\n",
      "b7-H3N1++ is generated at m/z 292.147376572871\n",
      "y2+ is generated at m/z 304.161547136671\n",
      "y6-C1H2N1O1++ is generated at m/z 308.170377668571\n",
      "y6-C1H2N2++ is generated at m/z 309.166298168571\n",
      "a4-H2O1+ is generated at m/z 312.207039264271\n",
      "a6++ is generated at m/z 315.66593365262105\n",
      "y3-C1H2N1O1+ is generated at m/z 317.16937216857104\n",
      "y3-C1H2N2+ is generated at m/z 319.161213168571\n",
      "y6-H2O1++ is generated at m/z 321.17191466857105\n",
      "y6-H3N1++ is generated at m/z 321.663922652621\n",
      "b6++ is generated at m/z 329.66339115262105\n",
      "y6++ is generated at m/z 330.177197200471\n",
      "a3+ is generated at m/z 332.160484136671\n",
      "b4-H2O1+ is generated at m/z 340.20195426427097\n",
      "a8-H2O1++ is generated at m/z 342.17920820047107\n",
      "a8-H3N1++ is generated at m/z 342.67121618452103\n",
      "y3-H2O1+ is generated at m/z 343.172446168571\n",
      "y3-H3N1+ is generated at m/z 344.15646213667105\n",
      "a7++ is generated at m/z 344.17666570047106\n",
      "b8-H2O1++ is generated at m/z 356.17666570047106\n",
      "b8-H3N1++ is generated at m/z 356.668673684521\n",
      "y7-C1H2N1O1++ is generated at m/z 356.696759780221\n",
      "y7-C1H2N2++ is generated at m/z 357.692680280221\n",
      "b7++ is generated at m/z 358.17412320047106\n",
      "b3+ is generated at m/z 360.155399136671\n",
      "y3+ is generated at m/z 361.18301123237103\n",
      "y7-H2O1++ is generated at m/z 369.698296780221\n",
      "y7-H3N1++ is generated at m/z 370.190304764271\n",
      "y7++ is generated at m/z 378.703579312121\n",
      "a5-H2O1+ is generated at m/z 383.24415342377097\n",
      "a8++ is generated at m/z 408.6979628121211\n",
      "b5-H2O1+ is generated at m/z 411.23906842377096\n",
      "b8++ is generated at m/z 422.6954203121211\n",
      "y8-C1H2N1O1++ is generated at m/z 430.23096692377095\n",
      "y4-C1H2N1O1+ is generated at m/z 431.21230035997104\n",
      "y8-C1H2N2++ is generated at m/z 431.22688742377096\n",
      "y4-C1H2N2+ is generated at m/z 433.204141359971\n",
      "y8-H2O1++ is generated at m/z 443.232503923771\n",
      "y8-H3N1++ is generated at m/z 443.72451190782095\n",
      "a4+ is generated at m/z 445.244548487571\n",
      "y8++ is generated at m/z 452.23778645567097\n",
      "y4-H2O1+ is generated at m/z 457.215374359971\n",
      "y4-H3N1+ is generated at m/z 458.19939032807105\n",
      "b4+ is generated at m/z 473.239463487571\n",
      "y4+ is generated at m/z 475.225939423771\n",
      "a6-H2O1+ is generated at m/z 497.28708161517096\n",
      "a6-H3N1+ is generated at m/z 498.271097583271\n",
      "y5-C1H2N1O1+ is generated at m/z 502.24941451947103\n",
      "y5-C1H2N2+ is generated at m/z 504.241255519471\n",
      "a5+ is generated at m/z 516.281662647071\n",
      "b6-H2O1+ is generated at m/z 525.281996615171\n",
      "b6-H3N1+ is generated at m/z 526.2660125832709\n",
      "y5-H2O1+ is generated at m/z 528.2524885194711\n",
      "y5-H3N1+ is generated at m/z 529.236504487571\n",
      "b5+ is generated at m/z 544.276577647071\n",
      "y5+ is generated at m/z 546.263053583271\n",
      "a7-H2O1+ is generated at m/z 554.308545710871\n",
      "a7-H3N1+ is generated at m/z 555.292561678971\n",
      "b7-H2O1+ is generated at m/z 582.303460710871\n",
      "b7-H3N1+ is generated at m/z 583.287476678971\n",
      "y6-C1H2N1O1+ is generated at m/z 615.333478870371\n",
      "y6-C1H2N2+ is generated at m/z 617.325319870371\n",
      "a6+ is generated at m/z 630.3245908384711\n",
      "y6-H2O1+ is generated at m/z 641.3365528703711\n",
      "y6-H3N1+ is generated at m/z 642.320568838471\n",
      "b6+ is generated at m/z 658.3195058384711\n",
      "y6+ is generated at m/z 659.347117934171\n",
      "a8-H2O1+ is generated at m/z 683.351139934171\n",
      "a8-H3N1+ is generated at m/z 684.3351559022709\n",
      "a7+ is generated at m/z 687.3460549341711\n",
      "b8-H2O1+ is generated at m/z 711.346054934171\n",
      "b8-H3N1+ is generated at m/z 712.3300709022709\n",
      "y7-C1H2N1O1+ is generated at m/z 712.3862430936709\n",
      "y7-C1H2N2+ is generated at m/z 714.378084093671\n",
      "b7+ is generated at m/z 715.3409699341711\n",
      "y7-H2O1+ is generated at m/z 738.389317093671\n",
      "y7-H3N1+ is generated at m/z 739.373333061771\n",
      "y7+ is generated at m/z 756.399882157471\n",
      "a8+ is generated at m/z 816.388649157471\n",
      "b8+ is generated at m/z 844.383564157471\n",
      "y8-C1H2N1O1+ is generated at m/z 859.454657380771\n",
      "y8-C1H2N2+ is generated at m/z 861.446498380771\n",
      "y8-H2O1+ is generated at m/z 885.4577313807711\n",
      "y8-H3N1+ is generated at m/z 886.441747348871\n",
      "y8+ is generated at m/z 903.468296444571\n"
     ]
    }
   ],
   "source": [
    "spec2 = MSSpectrum()\n",
    "p.setValue(\"add_b_ions\", \"true\")\n",
    "p.setValue(\"add_a_ions\", \"true\")\n",
    "p.setValue(\"add_losses\", \"true\")\n",
    "p.setValue(\"add_metainfo\", \"true\")\n",
    "tsg.setParameters(p)\n",
    "tsg.getSpectrum(spec2, peptide, 1, 2)\n",
    "print(\"Spectrum 2 of\", peptide, \"has\", spec2.size(), \"peaks.\")\n",
    "for ion, peak in zip(spec2.getStringDataArrays()[0], spec2):\n",
    "    print(ion.decode(), \"is generated at m/z\", peak.getMZ())\n",
    "exp = MSExperiment()\n",
    "exp.addSpectrum(spec1)\n",
    "exp.addSpectrum(spec2)\n",
    "MzMLFile().store(\"DFPIANGER.mzML\", exp)"
   ]
  },
  {
   "cell_type": "code",
   "execution_count": 5,
   "id": "37934056",
   "metadata": {},
   "outputs": [
    {
     "data": {
      "text/plain": [
       "Text(0, 0.5, 'intensity')"
      ]
     },
     "execution_count": 5,
     "metadata": {},
     "output_type": "execute_result"
    },
    {
     "data": {
      "image/png": "[encoded data removed]",
      "text/plain": [
       "<Figure size 432x288 with 1 Axes>"
      ]
     },
     "metadata": {
      "needs_background": "light"
     },
     "output_type": "display_data"
    }
   ],
   "source": [
    "import matplotlib.pyplot as plt\n",
    "plt.bar(spec2.get_peaks()[0], spec2.get_peaks()[1], snap=False) # snap ensures that all bars are rendered\n",
    "plt.xlabel(\"m/z\")\n",
    "plt.ylabel(\"intensity\")"
   ]
  },
  {
   "cell_type": "code",
   "execution_count": null,
   "id": "42fd8f60",
   "metadata": {},
   "outputs": [],
   "source": []
  }
 ],
 "metadata": {
  "kernelspec": {
   "display_name": "Python 3",
   "language": "python",
   "name": "python3"
  },
  "language_info": {
   "codemirror_mode": {
    "name": "ipython",
    "version": 3
   },
   "file_extension": ".py",
   "mimetype": "text/x-python",
   "name": "python",
   "nbconvert_exporter": "python",
   "pygments_lexer": "ipython3",
   "version": "3.8.8"
  }
 },
 "nbformat": 4,
 "nbformat_minor": 5
}
